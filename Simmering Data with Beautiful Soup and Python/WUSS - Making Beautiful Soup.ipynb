{
 "cells": [
  {
   "cell_type": "code",
   "execution_count": 1,
   "id": "206c2ed2",
   "metadata": {},
   "outputs": [],
   "source": [
    "import urllib\n",
    "from urllib.request import urlopen\n",
    "from bs4 import BeautifulSoup"
   ]
  },
  {
   "cell_type": "code",
   "execution_count": 136,
   "id": "402ff2ae",
   "metadata": {},
   "outputs": [],
   "source": [
    "def ops_tot(team_str):\n",
    "    response = urlopen('https://www.baseball-reference.com' + team_str)\n",
    "    html_doc = response.read()\n",
    "    soup = BeautifulSoup(html_doc, 'html.parser')\n",
    "  \n",
    "    table = soup.find('table',id='team_batting')\n",
    "    if table != None:       \n",
    "        for tfoot in table.tfoot:\n",
    "            td = tfoot.find_all('td')\n",
    "            for t in td:\n",
    "                if t['data-stat'] == 'onbase_plus_slugging_plus' and t.text != '':\n",
    "                    return(t.text)\n"
   ]
  },
  {
   "cell_type": "code",
   "execution_count": 137,
   "id": "b3ba094e",
   "metadata": {},
   "outputs": [
    {
     "name": "stdout",
     "output_type": "stream",
     "text": [
      "96\n"
     ]
    }
   ],
   "source": [
    "ops = ops_tot('/teams/ATL/2021-batting.shtml')\n",
    "print(ops)"
   ]
  },
  {
   "cell_type": "code",
   "execution_count": 145,
   "id": "f4573127",
   "metadata": {},
   "outputs": [],
   "source": [
    "def ws_winners():\n",
    "    response = urlopen('https://www.baseball-reference.com/postseason/world-series.shtml')\n",
    "    html_doc = response.read()\n",
    "    soup = BeautifulSoup(html_doc, 'html.parser')\n",
    "    \n",
    "    \n",
    "    stats = []                                       #initialize the list to store our stats in\n",
    "    \n",
    "    table = soup.find('table',id='world_series_winners_al_nl')\n",
    "    if table != None:\n",
    "        for row in table.find_all('tr'):\n",
    "            ws_stats = {}                            #initialize our dictionary\n",
    "            if row.contents[0].name == 'th':         #Look for th at the start - identifies relevant rows here\n",
    "                year = row.contents[0].text          #grab the year\n",
    "                strong_cells = row.find_all('strong')#look for cells with <strong> tag - W.S. winner is bolded! \n",
    "                for cell in strong_cells:                    \n",
    "                    try:                             #need try-except because of bolded Wins which have nothing to find\n",
    "                        link = cell.find('a')['href']#find the value of the href attribute in the anchor tag <a href=...>\n",
    "                        ws_stats['team'] = cell.text #the team name\n",
    "                        ws_stats['ops+'] = int(ops_tot(link))  #call the earlier function to read the OPS+ from a team page\n",
    "                        ws_stats['year'] = year       #save the year\n",
    "                        stats.append(ws_stats)        #append to the main list\n",
    "                        print(ws_stats)              \n",
    "                    except(TypeError):\n",
    "                        pass\n",
    "                    \n",
    "    return(stats)                                     #return the value"
   ]
  },
  {
   "cell_type": "code",
   "execution_count": 146,
   "id": "213a8bcb",
   "metadata": {},
   "outputs": [
    {
     "name": "stdout",
     "output_type": "stream",
     "text": [
      "{'team': 'Atlanta Braves', 'ops+': 96, 'year': '2021'}\n",
      "{'team': 'Los Angeles Dodgers', 'ops+': 119, 'year': '2020'}\n",
      "{'team': 'Washington Nationals', 'ops+': 104, 'year': '2019'}\n",
      "{'team': 'Boston Red Sox', 'ops+': 112, 'year': '2018'}\n",
      "{'team': 'Houston Astros', 'ops+': 123, 'year': '2017'}\n",
      "{'team': 'Chicago Cubs', 'ops+': 104, 'year': '2016'}\n",
      "{'team': 'Kansas City Royals', 'ops+': 98, 'year': '2015'}\n",
      "{'team': 'San Francisco Giants', 'ops+': 100, 'year': '2014'}\n",
      "{'team': 'Boston Red Sox', 'ops+': 116, 'year': '2013'}\n",
      "{'team': 'San Francisco Giants', 'ops+': 106, 'year': '2012'}\n",
      "{'team': 'St. Louis Cardinals', 'ops+': 112, 'year': '2011'}\n",
      "{'team': 'San Francisco Giants', 'ops+': 98, 'year': '2010'}\n",
      "{'team': 'New York Yankees', 'ops+': 114, 'year': '2009'}\n",
      "{'team': 'Philadelphia Phillies', 'ops+': 99, 'year': '2008'}\n",
      "{'team': 'Boston Red Sox', 'ops+': 107, 'year': '2007'}\n",
      "{'team': 'St. Louis Cardinals', 'ops+': 97, 'year': '2006'}\n",
      "{'team': 'Chicago White Sox', 'ops+': 95, 'year': '2005'}\n",
      "{'team': 'Boston Red Sox', 'ops+': 110, 'year': '2004'}\n",
      "{'team': 'Florida Marlins', 'ops+': 97, 'year': '2003'}\n",
      "{'team': 'Anaheim Angels', 'ops+': 105, 'year': '2002'}\n",
      "{'team': 'Arizona Diamondbacks', 'ops+': 94, 'year': '2001'}\n",
      "{'team': 'New York Yankees', 'ops+': 103, 'year': '2000'}\n",
      "{'team': 'New York Yankees', 'ops+': 110, 'year': '1999'}\n",
      "{'team': 'New York Yankees', 'ops+': 116, 'year': '1998'}\n",
      "{'team': 'Florida Marlins', 'ops+': 98, 'year': '1997'}\n",
      "{'team': 'New York Yankees', 'ops+': 100, 'year': '1996'}\n",
      "{'team': 'Atlanta Braves', 'ops+': 91, 'year': '1995'}\n",
      "{'team': 'Toronto Blue Jays', 'ops+': 110, 'year': '1993'}\n",
      "{'team': 'Toronto Blue Jays', 'ops+': 106, 'year': '1992'}\n",
      "{'team': 'Minnesota Twins', 'ops+': 107, 'year': '1991'}\n",
      "{'team': 'Cincinnati Reds', 'ops+': 95, 'year': '1990'}\n",
      "{'team': 'Oakland Athletics', 'ops+': 104, 'year': '1989'}\n",
      "{'team': 'Los Angeles Dodgers', 'ops+': 90, 'year': '1988'}\n",
      "{'team': 'Minnesota Twins', 'ops+': 97, 'year': '1987'}\n",
      "{'team': 'New York Mets', 'ops+': 106, 'year': '1986'}\n",
      "{'team': 'Kansas City Royals', 'ops+': 95, 'year': '1985'}\n",
      "{'team': 'Detroit Tigers', 'ops+': 114, 'year': '1984'}\n",
      "{'team': 'Baltimore Orioles', 'ops+': 111, 'year': '1983'}\n",
      "{'team': 'St. Louis Cardinals', 'ops+': 95, 'year': '1982'}\n",
      "{'team': 'Los Angeles Dodgers', 'ops+': 101, 'year': '1981'}\n",
      "{'team': 'Philadelphia Phillies', 'ops+': 98, 'year': '1980'}\n",
      "{'team': 'Pittsburgh Pirates', 'ops+': 99, 'year': '1979'}\n",
      "{'team': 'New York Yankees', 'ops+': 105, 'year': '1978'}\n",
      "{'team': 'New York Yankees', 'ops+': 115, 'year': '1977'}\n",
      "{'team': 'Cincinnati Reds', 'ops+': 120, 'year': '1976'}\n",
      "{'team': 'Cincinnati Reds', 'ops+': 108, 'year': '1975'}\n",
      "{'team': 'Oakland Athletics', 'ops+': 105, 'year': '1974'}\n",
      "{'team': 'Oakland Athletics', 'ops+': 108, 'year': '1973'}\n",
      "{'team': 'Oakland Athletics', 'ops+': 104, 'year': '1972'}\n",
      "{'team': 'Pittsburgh Pirates', 'ops+': 109, 'year': '1971'}\n",
      "{'team': 'Baltimore Orioles', 'ops+': 105, 'year': '1970'}\n",
      "{'team': 'New York Mets', 'ops+': 84, 'year': '1969'}\n",
      "{'team': 'Detroit Tigers', 'ops+': 107, 'year': '1968'}\n",
      "{'team': 'St. Louis Cardinals', 'ops+': 101, 'year': '1967'}\n",
      "{'team': 'Baltimore Orioles', 'ops+': 111, 'year': '1966'}\n",
      "{'team': 'Los Angeles Dodgers', 'ops+': 89, 'year': '1965'}\n",
      "{'team': 'St. Louis Cardinals', 'ops+': 94, 'year': '1964'}\n",
      "{'team': 'Los Angeles Dodgers', 'ops+': 99, 'year': '1963'}\n",
      "{'team': 'New York Yankees', 'ops+': 106, 'year': '1962'}\n",
      "{'team': 'New York Yankees', 'ops+': 109, 'year': '1961'}\n",
      "{'team': 'Pittsburgh Pirates', 'ops+': 102, 'year': '1960'}\n",
      "{'team': 'Los Angeles Dodgers', 'ops+': 89, 'year': '1959'}\n",
      "{'team': 'New York Yankees', 'ops+': 110, 'year': '1958'}\n",
      "{'team': 'Milwaukee Braves', 'ops+': 111, 'year': '1957'}\n",
      "{'team': 'New York Yankees', 'ops+': 108, 'year': '1956'}\n",
      "{'team': 'Brooklyn Dodgers', 'ops+': 109, 'year': '1955'}\n",
      "{'team': 'New York Giants', 'ops+': 95, 'year': '1954'}\n",
      "{'team': 'New York Yankees', 'ops+': 113, 'year': '1953'}\n",
      "{'team': 'New York Yankees', 'ops+': 112, 'year': '1952'}\n",
      "{'team': 'New York Yankees', 'ops+': 108, 'year': '1951'}\n",
      "{'team': 'New York Yankees', 'ops+': 108, 'year': '1950'}\n",
      "{'team': 'New York Yankees', 'ops+': 101, 'year': '1949'}\n",
      "{'team': 'Cleveland Indians', 'ops+': 113, 'year': '1948'}\n",
      "{'team': 'New York Yankees', 'ops+': 111, 'year': '1947'}\n",
      "{'team': 'St. Louis Cardinals', 'ops+': 99, 'year': '1946'}\n",
      "{'team': 'Detroit Tigers', 'ops+': 93, 'year': '1945'}\n",
      "{'team': 'St. Louis Cardinals', 'ops+': 107, 'year': '1944'}\n",
      "{'team': 'New York Yankees', 'ops+': 108, 'year': '1943'}\n",
      "{'team': 'St. Louis Cardinals', 'ops+': 103, 'year': '1942'}\n",
      "{'team': 'New York Yankees', 'ops+': 102, 'year': '1941'}\n",
      "{'team': 'Cincinnati Reds', 'ops+': 93, 'year': '1940'}\n",
      "{'team': 'New York Yankees', 'ops+': 111, 'year': '1939'}\n",
      "{'team': 'New York Yankees', 'ops+': 102, 'year': '1938'}\n",
      "{'team': 'New York Yankees', 'ops+': 105, 'year': '1937'}\n",
      "{'team': 'New York Yankees', 'ops+': 115, 'year': '1936'}\n",
      "{'team': 'Detroit Tigers', 'ops+': 110, 'year': '1935'}\n",
      "{'team': 'St. Louis Cardinals', 'ops+': 97, 'year': '1934'}\n",
      "{'team': 'New York Giants', 'ops+': 92, 'year': '1933'}\n",
      "{'team': 'New York Yankees', 'ops+': 119, 'year': '1932'}\n",
      "{'team': 'St. Louis Cardinals', 'ops+': 98, 'year': '1931'}\n",
      "{'team': 'Philadelphia Athletics', 'ops+': 103, 'year': '1930'}\n",
      "{'team': 'Philadelphia Athletics', 'ops+': 105, 'year': '1929'}\n",
      "{'team': 'New York Yankees', 'ops+': 115, 'year': '1928'}\n",
      "{'team': 'New York Yankees', 'ops+': 127, 'year': '1927'}\n",
      "{'team': 'St. Louis Cardinals', 'ops+': 101, 'year': '1926'}\n",
      "{'team': 'Pittsburgh Pirates', 'ops+': 103, 'year': '1925'}\n",
      "{'team': 'Washington Senators', 'ops+': 95, 'year': '1924'}\n",
      "{'team': 'New York Yankees', 'ops+': 103, 'year': '1923'}\n",
      "{'team': 'New York Giants', 'ops+': 101, 'year': '1922'}\n",
      "{'team': 'New York Giants', 'ops+': 105, 'year': '1921'}\n",
      "{'team': 'Cleveland Indians', 'ops+': 107, 'year': '1920'}\n",
      "{'team': 'Cincinnati Reds', 'ops+': 103, 'year': '1919'}\n",
      "{'team': 'Boston Red Sox', 'ops+': 97, 'year': '1918'}\n",
      "{'team': 'Chicago White Sox', 'ops+': 98, 'year': '1917'}\n",
      "{'team': 'Boston Red Sox', 'ops+': 90, 'year': '1916'}\n",
      "{'team': 'Boston Red Sox', 'ops+': 105, 'year': '1915'}\n",
      "{'team': 'Boston Braves', 'ops+': 92, 'year': '1914'}\n",
      "{'team': 'Philadelphia Athletics', 'ops+': 116, 'year': '1913'}\n",
      "{'team': 'Boston Red Sox', 'ops+': 107, 'year': '1912'}\n",
      "{'team': 'Philadelphia Athletics', 'ops+': 112, 'year': '1911'}\n",
      "{'team': 'Philadelphia Athletics', 'ops+': 113, 'year': '1910'}\n",
      "{'team': 'Pittsburgh Pirates', 'ops+': 107, 'year': '1909'}\n",
      "{'team': 'Chicago Cubs', 'ops+': 98, 'year': '1908'}\n",
      "{'team': 'Chicago Cubs', 'ops+': 92, 'year': '1907'}\n",
      "{'team': 'Chicago White Sox', 'ops+': 87, 'year': '1906'}\n",
      "{'team': 'New York Giants', 'ops+': 111, 'year': '1905'}\n",
      "{'team': 'Boston Americans', 'ops+': 106, 'year': '1903'}\n"
     ]
    }
   ],
   "source": [
    "final_stats = ws_winners()"
   ]
  },
  {
   "cell_type": "code",
   "execution_count": 147,
   "id": "1ca6a6f2",
   "metadata": {},
   "outputs": [
    {
     "name": "stdout",
     "output_type": "stream",
     "text": [
      "{'team': 'New York Mets', 'ops+': 84, 'year': '1969'}\n"
     ]
    }
   ],
   "source": [
    "minOPS = min(final_stats,key=lambda x:x['ops+'])\n",
    "print(minOPS)"
   ]
  },
  {
   "cell_type": "code",
   "execution_count": null,
   "id": "dd170a56",
   "metadata": {},
   "outputs": [],
   "source": []
  }
 ],
 "metadata": {
  "kernelspec": {
   "display_name": "Python 3",
   "language": "python",
   "name": "python3"
  },
  "language_info": {
   "codemirror_mode": {
    "name": "ipython",
    "version": 3
   },
   "file_extension": ".py",
   "mimetype": "text/x-python",
   "name": "python",
   "nbconvert_exporter": "python",
   "pygments_lexer": "ipython3",
   "version": "3.8.8"
  }
 },
 "nbformat": 4,
 "nbformat_minor": 5
}
