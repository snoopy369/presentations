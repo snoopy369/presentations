{
 "cells": [
  {
   "cell_type": "code",
   "execution_count": 1,
   "metadata": {},
   "outputs": [],
   "source": [
    "import pandas as pd\n",
    "import saspy\n",
    "from IPython.display import HTML\n",
    "from us import states\n",
    "from census import Census"
   ]
  },
  {
   "cell_type": "markdown",
   "metadata": {},
   "source": [
    "First, connect to the census using our API key"
   ]
  },
  {
   "cell_type": "code",
   "execution_count": 2,
   "metadata": {},
   "outputs": [],
   "source": [
    "c = Census(\"e7cd51b9bf8678c6e1c9944116f0984b44cded26\")"
   ]
  },
  {
   "cell_type": "markdown",
   "metadata": {},
   "source": [
    "Next, download a couple of census questions.   We're going to look at the ACS 5-year estimates here; just for a starting point let's get the male and female population of the states.  B01001_002E is male, and B0101_026E is female.  You can find the full list of variables [in the US Census API documentation](https://api.census.gov/data/2015/acs/acs5/variables.html)."
   ]
  },
  {
   "cell_type": "code",
   "execution_count": 3,
   "metadata": {},
   "outputs": [],
   "source": [
    "cen_data = pd.DataFrame(c.acs5.state(('NAME','B01001_002E','B01001_026E'), Census.ALL))"
   ]
  },
  {
   "cell_type": "markdown",
   "metadata": {},
   "source": [
    "Now, we need to upload this to a SAS dataset, since we're SAS programmers!  Here's a simple function that does that:"
   ]
  },
  {
   "cell_type": "code",
   "execution_count": 4,
   "metadata": {},
   "outputs": [],
   "source": [
    "def upload_to_SAS(df,path,sastbl):\n",
    "    sas = saspy.SASsession(cfgname='winlocal')\n",
    "    sas.saslib('demo',path=path)\n",
    "    sas.df2sd(df=df,table=sastbl,libref='demo')"
   ]
  },
  {
   "cell_type": "markdown",
   "metadata": {},
   "source": [
    "This takes three arguments, a dataframe, a path to save it to, and the name of the SAS dataset to call it.\n",
    "\n",
    "Now that we've invoked it, we can upload it to SAS!"
   ]
  },
  {
   "cell_type": "code",
   "execution_count": 5,
   "metadata": {},
   "outputs": [
    {
     "name": "stdout",
     "output_type": "stream",
     "text": [
      "SAS Connection established. Subprocess id is 2468\n",
      "\n",
      "\f",
      "5                                                          The SAS System                             14:13 Tuesday, October 1, 2019\n",
      "\n",
      "31         \n",
      "32         libname demo    'c:\\temp'  ;\n",
      "NOTE: Libref DEMO was successfully assigned as follows: \n",
      "      Engine:        V9 \n",
      "      Physical Name: c:\\temp\n",
      "33         \n",
      "34         \n"
     ]
    }
   ],
   "source": [
    "upload_to_SAS(df=cen_data,path='c:\\\\temp',sastbl='uscen_data')"
   ]
  },
  {
   "cell_type": "markdown",
   "metadata": {},
   "source": [
    "Now we're cooking.  We have a SAS dataset.  Now, before we hand off to SAS entirely, let's make sure what we have is okay.\n",
    "\n",
    "First, we have to create a new SAS connection."
   ]
  },
  {
   "cell_type": "code",
   "execution_count": 6,
   "metadata": {},
   "outputs": [
    {
     "name": "stdout",
     "output_type": "stream",
     "text": [
      "SAS Connection established. Subprocess id is 3140\n",
      "\n"
     ]
    }
   ],
   "source": [
    "sas =saspy.SASsession(cfgname='winlocal')"
   ]
  },
  {
   "cell_type": "markdown",
   "metadata": {},
   "source": [
    "This creates the SAS session, basically telling SAS to spawn a sas.exe process, and it tells it to use the 'winlocal' (windows local) configuration.  If you have a SAS Server environment, you might have a different value here."
   ]
  },
  {
   "cell_type": "code",
   "execution_count": 7,
   "metadata": {},
   "outputs": [
    {
     "name": "stdout",
     "output_type": "stream",
     "text": [
      "\f",
      "5                                                          The SAS System                             14:13 Tuesday, October 1, 2019\n",
      "\n",
      "31         \n",
      "32         libname demo    'c:\\temp'  ;\n",
      "NOTE: Libref DEMO was successfully assigned as follows: \n",
      "      Engine:        V9 \n",
      "      Physical Name: c:\\temp\n",
      "33         \n",
      "34         \n"
     ]
    }
   ],
   "source": [
    "sas.saslib('demo',path='c:\\\\temp')"
   ]
  },
  {
   "cell_type": "markdown",
   "metadata": {},
   "source": [
    "This tells SAS to create a libname."
   ]
  },
  {
   "cell_type": "code",
   "execution_count": 8,
   "metadata": {},
   "outputs": [],
   "source": [
    "cd = sas.sasdata('uscen_data','demo')"
   ]
  },
  {
   "cell_type": "markdown",
   "metadata": {},
   "source": [
    "Here, we're creating a connection to a specific SAS dataset.  Now, any reference to `cd` will refer to our dataset.\n",
    "\n",
    "Now, let's get some information out of it."
   ]
  },
  {
   "cell_type": "code",
   "execution_count": 9,
   "metadata": {},
   "outputs": [
    {
     "name": "stdout",
     "output_type": "stream",
     "text": [
      "SAS Connection terminated. Subprocess id was 2468\n"
     ]
    },
    {
     "data": {
      "text/html": [
       "<div>\n",
       "<style scoped>\n",
       "    .dataframe tbody tr th:only-of-type {\n",
       "        vertical-align: middle;\n",
       "    }\n",
       "\n",
       "    .dataframe tbody tr th {\n",
       "        vertical-align: top;\n",
       "    }\n",
       "\n",
       "    .dataframe thead th {\n",
       "        text-align: right;\n",
       "    }\n",
       "</style>\n",
       "<table border=\"1\" class=\"dataframe\">\n",
       "  <thead>\n",
       "    <tr style=\"text-align: right;\">\n",
       "      <th></th>\n",
       "      <th>Member</th>\n",
       "      <th>Num</th>\n",
       "      <th>Variable</th>\n",
       "      <th>Type</th>\n",
       "      <th>Len</th>\n",
       "      <th>Pos</th>\n",
       "    </tr>\n",
       "  </thead>\n",
       "  <tbody>\n",
       "    <tr>\n",
       "      <th>0</th>\n",
       "      <td>DEMO.USCEN_DATA</td>\n",
       "      <td>1</td>\n",
       "      <td>B01001_002E</td>\n",
       "      <td>Num</td>\n",
       "      <td>8</td>\n",
       "      <td>0</td>\n",
       "    </tr>\n",
       "    <tr>\n",
       "      <th>1</th>\n",
       "      <td>DEMO.USCEN_DATA</td>\n",
       "      <td>2</td>\n",
       "      <td>B01001_026E</td>\n",
       "      <td>Num</td>\n",
       "      <td>8</td>\n",
       "      <td>8</td>\n",
       "    </tr>\n",
       "    <tr>\n",
       "      <th>2</th>\n",
       "      <td>DEMO.USCEN_DATA</td>\n",
       "      <td>3</td>\n",
       "      <td>NAME</td>\n",
       "      <td>Char</td>\n",
       "      <td>20</td>\n",
       "      <td>16</td>\n",
       "    </tr>\n",
       "    <tr>\n",
       "      <th>3</th>\n",
       "      <td>DEMO.USCEN_DATA</td>\n",
       "      <td>4</td>\n",
       "      <td>state</td>\n",
       "      <td>Char</td>\n",
       "      <td>2</td>\n",
       "      <td>36</td>\n",
       "    </tr>\n",
       "  </tbody>\n",
       "</table>\n",
       "</div>"
      ],
      "text/plain": [
       "            Member  Num     Variable  Type  Len  Pos\n",
       "0  DEMO.USCEN_DATA    1  B01001_002E   Num    8    0\n",
       "1  DEMO.USCEN_DATA    2  B01001_026E   Num    8    8\n",
       "2  DEMO.USCEN_DATA    3         NAME  Char   20   16\n",
       "3  DEMO.USCEN_DATA    4        state  Char    2   36"
      ]
     },
     "execution_count": 9,
     "metadata": {},
     "output_type": "execute_result"
    }
   ],
   "source": [
    "cd.columnInfo()"
   ]
  },
  {
   "cell_type": "markdown",
   "metadata": {},
   "source": [
    "This will give us basically a PROC CONTENTS of the dataset."
   ]
  },
  {
   "cell_type": "code",
   "execution_count": 10,
   "metadata": {},
   "outputs": [
    {
     "data": {
      "text/html": [
       "<div>\n",
       "<style scoped>\n",
       "    .dataframe tbody tr th:only-of-type {\n",
       "        vertical-align: middle;\n",
       "    }\n",
       "\n",
       "    .dataframe tbody tr th {\n",
       "        vertical-align: top;\n",
       "    }\n",
       "\n",
       "    .dataframe thead th {\n",
       "        text-align: right;\n",
       "    }\n",
       "</style>\n",
       "<table border=\"1\" class=\"dataframe\">\n",
       "  <thead>\n",
       "    <tr style=\"text-align: right;\">\n",
       "      <th></th>\n",
       "      <th>B01001_002E</th>\n",
       "      <th>B01001_026E</th>\n",
       "      <th>NAME</th>\n",
       "      <th>state</th>\n",
       "    </tr>\n",
       "  </thead>\n",
       "  <tbody>\n",
       "    <tr>\n",
       "      <th>0</th>\n",
       "      <td>2346193</td>\n",
       "      <td>2494971</td>\n",
       "      <td>Alabama</td>\n",
       "      <td>01</td>\n",
       "    </tr>\n",
       "    <tr>\n",
       "      <th>1</th>\n",
       "      <td>385296</td>\n",
       "      <td>351559</td>\n",
       "      <td>Alaska</td>\n",
       "      <td>02</td>\n",
       "    </tr>\n",
       "    <tr>\n",
       "      <th>2</th>\n",
       "      <td>3344106</td>\n",
       "      <td>3384471</td>\n",
       "      <td>Arizona</td>\n",
       "      <td>04</td>\n",
       "    </tr>\n",
       "    <tr>\n",
       "      <th>3</th>\n",
       "      <td>1456694</td>\n",
       "      <td>1511778</td>\n",
       "      <td>Arkansas</td>\n",
       "      <td>05</td>\n",
       "    </tr>\n",
       "    <tr>\n",
       "      <th>4</th>\n",
       "      <td>19200970</td>\n",
       "      <td>19453236</td>\n",
       "      <td>California</td>\n",
       "      <td>06</td>\n",
       "    </tr>\n",
       "  </tbody>\n",
       "</table>\n",
       "</div>"
      ],
      "text/plain": [
       "   B01001_002E  B01001_026E        NAME state\n",
       "0      2346193      2494971     Alabama    01\n",
       "1       385296       351559      Alaska    02\n",
       "2      3344106      3384471     Arizona    04\n",
       "3      1456694      1511778    Arkansas    05\n",
       "4     19200970     19453236  California    06"
      ]
     },
     "execution_count": 10,
     "metadata": {},
     "output_type": "execute_result"
    }
   ],
   "source": [
    "cd.head()"
   ]
  },
  {
   "cell_type": "markdown",
   "metadata": {},
   "source": [
    "`head` is telling it to give us the top several rows, just so we can make sure it makes sense.\n",
    "\n",
    "One thing to note: Python is 0-based, not 1-based, so don't get confused if you run the same thing inside SAS and see the row numbers don't line up!\n",
    "\n",
    "Okay, we have sensible population numbers.  But our labels are missing, and our variable names make no sense, so let's clean those up. Easiest way is to submit some SAS code directly, so let's do that, with `submit()`."
   ]
  },
  {
   "cell_type": "code",
   "execution_count": 11,
   "metadata": {},
   "outputs": [
    {
     "data": {
      "text/plain": [
       "'\\x0c19                                                         The SAS System                             14:13 Tuesday, October 1, 2019\\n\\n145        ods listing close;ods html5 (id=saspy_internal) file=_tomods1 options(bitmap_mode=\\'inline\\') device=svg style=HTMLBlue;\\n145      ! ods graphics on / outputfmt=png;\\nNOTE: Writing HTML5(SASPY_INTERNAL) Body file: _TOMODS1\\n146        \\n147        \\n148        proc datasets lib=demo;\\n149        modify uscen_data;\\n150        rename b01001_002E = male\\n151               b01001_026E = female;\\nNOTE: Renaming variable b01001_002E to male.\\nNOTE: Renaming variable b01001_026E to female.\\n152        run;\\n\\nNOTE: MODIFY was successful for DEMO.USCEN_DATA.DATA.\\n153        label male=\"Population of males in state\"\\n154              female=\"Population of females in state\";\\n155        run;\\n\\n155      !      quit;\\n\\nNOTE: PROCEDURE DATASETS used (Total process time):\\n      real time           0.17 seconds\\n      cpu time            0.04 seconds\\n      \\n\\n156        \\n157        \\n158        \\n159        ods html5 (id=saspy_internal) close;ods listing;\\n160        '"
      ]
     },
     "execution_count": 11,
     "metadata": {},
     "output_type": "execute_result"
    }
   ],
   "source": [
    "rc = sas.submit(\"\"\"\n",
    "proc datasets lib=demo;\n",
    "modify uscen_data;\n",
    "rename b01001_002E = male\n",
    "       b01001_026E = female;\n",
    "run;\n",
    "label male=\"Population of males in state\"\n",
    "      female=\"Population of females in state\";\n",
    "run; quit;\n",
    "\n",
    "\"\"\")\n",
    "rc['LOG']"
   ]
  },
  {
   "cell_type": "markdown",
   "metadata": {},
   "source": [
    "Now, let's check if that worked properly."
   ]
  },
  {
   "cell_type": "code",
   "execution_count": 12,
   "metadata": {},
   "outputs": [
    {
     "data": {
      "text/html": [
       "<div>\n",
       "<style scoped>\n",
       "    .dataframe tbody tr th:only-of-type {\n",
       "        vertical-align: middle;\n",
       "    }\n",
       "\n",
       "    .dataframe tbody tr th {\n",
       "        vertical-align: top;\n",
       "    }\n",
       "\n",
       "    .dataframe thead th {\n",
       "        text-align: right;\n",
       "    }\n",
       "</style>\n",
       "<table border=\"1\" class=\"dataframe\">\n",
       "  <thead>\n",
       "    <tr style=\"text-align: right;\">\n",
       "      <th></th>\n",
       "      <th>male</th>\n",
       "      <th>female</th>\n",
       "      <th>NAME</th>\n",
       "      <th>state</th>\n",
       "    </tr>\n",
       "  </thead>\n",
       "  <tbody>\n",
       "    <tr>\n",
       "      <th>0</th>\n",
       "      <td>2346193</td>\n",
       "      <td>2494971</td>\n",
       "      <td>Alabama</td>\n",
       "      <td>01</td>\n",
       "    </tr>\n",
       "    <tr>\n",
       "      <th>1</th>\n",
       "      <td>385296</td>\n",
       "      <td>351559</td>\n",
       "      <td>Alaska</td>\n",
       "      <td>02</td>\n",
       "    </tr>\n",
       "    <tr>\n",
       "      <th>2</th>\n",
       "      <td>3344106</td>\n",
       "      <td>3384471</td>\n",
       "      <td>Arizona</td>\n",
       "      <td>04</td>\n",
       "    </tr>\n",
       "    <tr>\n",
       "      <th>3</th>\n",
       "      <td>1456694</td>\n",
       "      <td>1511778</td>\n",
       "      <td>Arkansas</td>\n",
       "      <td>05</td>\n",
       "    </tr>\n",
       "    <tr>\n",
       "      <th>4</th>\n",
       "      <td>19200970</td>\n",
       "      <td>19453236</td>\n",
       "      <td>California</td>\n",
       "      <td>06</td>\n",
       "    </tr>\n",
       "  </tbody>\n",
       "</table>\n",
       "</div>"
      ],
      "text/plain": [
       "       male    female        NAME state\n",
       "0   2346193   2494971     Alabama    01\n",
       "1    385296    351559      Alaska    02\n",
       "2   3344106   3384471     Arizona    04\n",
       "3   1456694   1511778    Arkansas    05\n",
       "4  19200970  19453236  California    06"
      ]
     },
     "execution_count": 12,
     "metadata": {},
     "output_type": "execute_result"
    }
   ],
   "source": [
    "cd.head()"
   ]
  },
  {
   "cell_type": "markdown",
   "metadata": {},
   "source": [
    "Okay, so we have a dataset with decent variable names.  Now let's turn it over to SAS."
   ]
  }
 ],
 "metadata": {
  "kernelspec": {
   "display_name": "Python 3",
   "language": "python",
   "name": "python3"
  },
  "language_info": {
   "codemirror_mode": {
    "name": "ipython",
    "version": 3
   },
   "file_extension": ".py",
   "mimetype": "text/x-python",
   "name": "python",
   "nbconvert_exporter": "python",
   "pygments_lexer": "ipython3",
   "version": "3.6.5"
  }
 },
 "nbformat": 4,
 "nbformat_minor": 2
}
