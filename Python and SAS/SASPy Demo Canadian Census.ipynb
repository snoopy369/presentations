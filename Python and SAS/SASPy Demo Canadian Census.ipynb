{
 "cells": [
  {
   "cell_type": "code",
   "execution_count": 1,
   "metadata": {},
   "outputs": [],
   "source": [
    "import stats_can\n",
    "import pandas as pd\n",
    "import saspy\n"
   ]
  },
  {
   "cell_type": "markdown",
   "metadata": {},
   "source": [
    "Download the table *we're interested in*:"
   ]
  },
  {
   "cell_type": "code",
   "execution_count": 2,
   "metadata": {},
   "outputs": [],
   "source": [
    "statcan_dat =stats_can.table_to_dataframe({'17100005'},path='c:\\\\temp\\\\stats-can')"
   ]
  },
  {
   "cell_type": "markdown",
   "metadata": {},
   "source": [
    "Now we have a nice file, saved to c:\\temp\\stats-can\\17100005.json, and then converted to a python data frame (similar to a SAS dataset).  Let's upload it to SAS now.  First, we'll create a simple function to upload it, and then run that."
   ]
  },
  {
   "cell_type": "code",
   "execution_count": 3,
   "metadata": {},
   "outputs": [
    {
     "name": "stdout",
     "output_type": "stream",
     "text": [
      "SAS Connection established. Subprocess id is 33772\n",
      "\n",
      "\f",
      "5                                                          The SAS System                           14:34 Friday, September 14, 2018\n",
      "\n",
      "31         \n",
      "32         libname demo    'c:\\temp'  ;\n",
      "NOTE: Libref DEMO was successfully assigned as follows: \n",
      "      Engine:        V9 \n",
      "      Physical Name: c:\\temp\n",
      "33         \n",
      "34         \n"
     ]
    }
   ],
   "source": [
    "def upload_to_SAS(df,path,sastbl):\n",
    "    sas = saspy.SASsession(cfgname='winlocal')\n",
    "    sas.saslib('demo',path=path)\n",
    "    sas.df2sd(df=df,table=sastbl,libref='demo')\n",
    "    \n",
    "upload_to_SAS(df=statcan_dat,path='c:\\\\temp',sastbl='statcan_data')"
   ]
  },
  {
   "cell_type": "markdown",
   "metadata": {},
   "source": [
    "Now the file is in a SAS dataset, and we can do SAS things with it."
   ]
  },
  {
   "cell_type": "code",
   "execution_count": null,
   "metadata": {},
   "outputs": [],
   "source": []
  }
 ],
 "metadata": {
  "kernelspec": {
   "display_name": "Python 3",
   "language": "python",
   "name": "python3"
  },
  "language_info": {
   "codemirror_mode": {
    "name": "ipython",
    "version": 3
   },
   "file_extension": ".py",
   "mimetype": "text/x-python",
   "name": "python",
   "nbconvert_exporter": "python",
   "pygments_lexer": "ipython3",
   "version": "3.6.5"
  }
 },
 "nbformat": 4,
 "nbformat_minor": 2
}
